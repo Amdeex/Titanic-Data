{
 "cells": [
  {
   "cell_type": "markdown",
   "id": "df04059d-0cde-49af-8b98-4078033cba3d",
   "metadata": {
    "tags": []
   },
   "source": [
    "## <span style='color: crimson'> **Please Note That The Dataset Used Does Not Contain The Total Amount Of Those In The Titanic. This is because most of the data were lost in the ship.** </span>"
   ]
  },
  {
   "cell_type": "markdown",
   "id": "d1d14abc-1cfc-42e4-bfad-07b38df422b2",
   "metadata": {},
   "source": [
    "## <span style='color: #8b0000'> **1. Importing the libraries necessary for the operation** "
   ]
  },
  {
   "cell_type": "code",
   "execution_count": 60,
   "id": "67d4186b-59c6-4a16-a9bc-00279b6bc064",
   "metadata": {},
   "outputs": [],
   "source": [
    "import numpy as np \n",
    "import pandas as pd\n",
    "import matplotlib \n",
    "import matplotlib.pyplot as plt \n",
    "import seaborn as sns\n",
    "\n",
    "# to silent the warnings\n",
    "import sys \n",
    "import warnings\n",
    "\n",
    "if not sys.warnoptions:\n",
    "    warnings.simplefilter('ignore')\n",
    "    \n",
    "#to display numbers to two decimal place\n",
    "pd.options.display.float_format = '{:,.2f}'.format\n",
    "\n",
    "#our magic key so that the plot dosen't appear as a pop-up or something.....can't really explain\n",
    "%matplotlib inline"
   ]
  },
  {
   "cell_type": "markdown",
   "id": "d5a1dee5-25fb-4b0f-a466-e3423636cdc1",
   "metadata": {},
   "source": [
    "## <span style='color: #8b0000'>   **2. loading the dataframe to the note book**\n",
    "#### Loading....."
   ]
  },
  {
   "cell_type": "code",
   "execution_count": 2,
   "id": "61606c34-8129-488e-9fdc-dacf7df8cd0b",
   "metadata": {},
   "outputs": [
    {
     "data": {
      "text/html": [
       "<div>\n",
       "<style scoped>\n",
       "    .dataframe tbody tr th:only-of-type {\n",
       "        vertical-align: middle;\n",
       "    }\n",
       "\n",
       "    .dataframe tbody tr th {\n",
       "        vertical-align: top;\n",
       "    }\n",
       "\n",
       "    .dataframe thead th {\n",
       "        text-align: right;\n",
       "    }\n",
       "</style>\n",
       "<table border=\"1\" class=\"dataframe\">\n",
       "  <thead>\n",
       "    <tr style=\"text-align: right;\">\n",
       "      <th></th>\n",
       "      <th>PassengerId</th>\n",
       "      <th>Survived</th>\n",
       "      <th>Pclass</th>\n",
       "      <th>Name</th>\n",
       "      <th>Sex</th>\n",
       "      <th>Age</th>\n",
       "      <th>SibSp</th>\n",
       "      <th>Parch</th>\n",
       "      <th>Ticket</th>\n",
       "      <th>Fare</th>\n",
       "      <th>Cabin</th>\n",
       "      <th>Embarked</th>\n",
       "    </tr>\n",
       "  </thead>\n",
       "  <tbody>\n",
       "    <tr>\n",
       "      <th>0</th>\n",
       "      <td>1</td>\n",
       "      <td>0</td>\n",
       "      <td>3</td>\n",
       "      <td>Braund, Mr. Owen Harris</td>\n",
       "      <td>male</td>\n",
       "      <td>22.00</td>\n",
       "      <td>1</td>\n",
       "      <td>0</td>\n",
       "      <td>A/5 21171</td>\n",
       "      <td>7.25</td>\n",
       "      <td>NaN</td>\n",
       "      <td>S</td>\n",
       "    </tr>\n",
       "    <tr>\n",
       "      <th>1</th>\n",
       "      <td>2</td>\n",
       "      <td>1</td>\n",
       "      <td>1</td>\n",
       "      <td>Cumings, Mrs. John Bradley (Florence Briggs Th...</td>\n",
       "      <td>female</td>\n",
       "      <td>38.00</td>\n",
       "      <td>1</td>\n",
       "      <td>0</td>\n",
       "      <td>PC 17599</td>\n",
       "      <td>71.28</td>\n",
       "      <td>C85</td>\n",
       "      <td>C</td>\n",
       "    </tr>\n",
       "    <tr>\n",
       "      <th>2</th>\n",
       "      <td>3</td>\n",
       "      <td>1</td>\n",
       "      <td>3</td>\n",
       "      <td>Heikkinen, Miss. Laina</td>\n",
       "      <td>female</td>\n",
       "      <td>26.00</td>\n",
       "      <td>0</td>\n",
       "      <td>0</td>\n",
       "      <td>STON/O2. 3101282</td>\n",
       "      <td>7.92</td>\n",
       "      <td>NaN</td>\n",
       "      <td>S</td>\n",
       "    </tr>\n",
       "    <tr>\n",
       "      <th>3</th>\n",
       "      <td>4</td>\n",
       "      <td>1</td>\n",
       "      <td>1</td>\n",
       "      <td>Futrelle, Mrs. Jacques Heath (Lily May Peel)</td>\n",
       "      <td>female</td>\n",
       "      <td>35.00</td>\n",
       "      <td>1</td>\n",
       "      <td>0</td>\n",
       "      <td>113803</td>\n",
       "      <td>53.10</td>\n",
       "      <td>C123</td>\n",
       "      <td>S</td>\n",
       "    </tr>\n",
       "    <tr>\n",
       "      <th>4</th>\n",
       "      <td>5</td>\n",
       "      <td>0</td>\n",
       "      <td>3</td>\n",
       "      <td>Allen, Mr. William Henry</td>\n",
       "      <td>male</td>\n",
       "      <td>35.00</td>\n",
       "      <td>0</td>\n",
       "      <td>0</td>\n",
       "      <td>373450</td>\n",
       "      <td>8.05</td>\n",
       "      <td>NaN</td>\n",
       "      <td>S</td>\n",
       "    </tr>\n",
       "    <tr>\n",
       "      <th>...</th>\n",
       "      <td>...</td>\n",
       "      <td>...</td>\n",
       "      <td>...</td>\n",
       "      <td>...</td>\n",
       "      <td>...</td>\n",
       "      <td>...</td>\n",
       "      <td>...</td>\n",
       "      <td>...</td>\n",
       "      <td>...</td>\n",
       "      <td>...</td>\n",
       "      <td>...</td>\n",
       "      <td>...</td>\n",
       "    </tr>\n",
       "    <tr>\n",
       "      <th>886</th>\n",
       "      <td>887</td>\n",
       "      <td>0</td>\n",
       "      <td>2</td>\n",
       "      <td>Montvila, Rev. Juozas</td>\n",
       "      <td>male</td>\n",
       "      <td>27.00</td>\n",
       "      <td>0</td>\n",
       "      <td>0</td>\n",
       "      <td>211536</td>\n",
       "      <td>13.00</td>\n",
       "      <td>NaN</td>\n",
       "      <td>S</td>\n",
       "    </tr>\n",
       "    <tr>\n",
       "      <th>887</th>\n",
       "      <td>888</td>\n",
       "      <td>1</td>\n",
       "      <td>1</td>\n",
       "      <td>Graham, Miss. Margaret Edith</td>\n",
       "      <td>female</td>\n",
       "      <td>19.00</td>\n",
       "      <td>0</td>\n",
       "      <td>0</td>\n",
       "      <td>112053</td>\n",
       "      <td>30.00</td>\n",
       "      <td>B42</td>\n",
       "      <td>S</td>\n",
       "    </tr>\n",
       "    <tr>\n",
       "      <th>888</th>\n",
       "      <td>889</td>\n",
       "      <td>0</td>\n",
       "      <td>3</td>\n",
       "      <td>Johnston, Miss. Catherine Helen \"Carrie\"</td>\n",
       "      <td>female</td>\n",
       "      <td>NaN</td>\n",
       "      <td>1</td>\n",
       "      <td>2</td>\n",
       "      <td>W./C. 6607</td>\n",
       "      <td>23.45</td>\n",
       "      <td>NaN</td>\n",
       "      <td>S</td>\n",
       "    </tr>\n",
       "    <tr>\n",
       "      <th>889</th>\n",
       "      <td>890</td>\n",
       "      <td>1</td>\n",
       "      <td>1</td>\n",
       "      <td>Behr, Mr. Karl Howell</td>\n",
       "      <td>male</td>\n",
       "      <td>26.00</td>\n",
       "      <td>0</td>\n",
       "      <td>0</td>\n",
       "      <td>111369</td>\n",
       "      <td>30.00</td>\n",
       "      <td>C148</td>\n",
       "      <td>C</td>\n",
       "    </tr>\n",
       "    <tr>\n",
       "      <th>890</th>\n",
       "      <td>891</td>\n",
       "      <td>0</td>\n",
       "      <td>3</td>\n",
       "      <td>Dooley, Mr. Patrick</td>\n",
       "      <td>male</td>\n",
       "      <td>32.00</td>\n",
       "      <td>0</td>\n",
       "      <td>0</td>\n",
       "      <td>370376</td>\n",
       "      <td>7.75</td>\n",
       "      <td>NaN</td>\n",
       "      <td>Q</td>\n",
       "    </tr>\n",
       "  </tbody>\n",
       "</table>\n",
       "<p>891 rows × 12 columns</p>\n",
       "</div>"
      ],
      "text/plain": [
       "     PassengerId  Survived  Pclass  \\\n",
       "0              1         0       3   \n",
       "1              2         1       1   \n",
       "2              3         1       3   \n",
       "3              4         1       1   \n",
       "4              5         0       3   \n",
       "..           ...       ...     ...   \n",
       "886          887         0       2   \n",
       "887          888         1       1   \n",
       "888          889         0       3   \n",
       "889          890         1       1   \n",
       "890          891         0       3   \n",
       "\n",
       "                                                  Name     Sex   Age  SibSp  \\\n",
       "0                              Braund, Mr. Owen Harris    male 22.00      1   \n",
       "1    Cumings, Mrs. John Bradley (Florence Briggs Th...  female 38.00      1   \n",
       "2                               Heikkinen, Miss. Laina  female 26.00      0   \n",
       "3         Futrelle, Mrs. Jacques Heath (Lily May Peel)  female 35.00      1   \n",
       "4                             Allen, Mr. William Henry    male 35.00      0   \n",
       "..                                                 ...     ...   ...    ...   \n",
       "886                              Montvila, Rev. Juozas    male 27.00      0   \n",
       "887                       Graham, Miss. Margaret Edith  female 19.00      0   \n",
       "888           Johnston, Miss. Catherine Helen \"Carrie\"  female   NaN      1   \n",
       "889                              Behr, Mr. Karl Howell    male 26.00      0   \n",
       "890                                Dooley, Mr. Patrick    male 32.00      0   \n",
       "\n",
       "     Parch            Ticket  Fare Cabin Embarked  \n",
       "0        0         A/5 21171  7.25   NaN        S  \n",
       "1        0          PC 17599 71.28   C85        C  \n",
       "2        0  STON/O2. 3101282  7.92   NaN        S  \n",
       "3        0            113803 53.10  C123        S  \n",
       "4        0            373450  8.05   NaN        S  \n",
       "..     ...               ...   ...   ...      ...  \n",
       "886      0            211536 13.00   NaN        S  \n",
       "887      0            112053 30.00   B42        S  \n",
       "888      2        W./C. 6607 23.45   NaN        S  \n",
       "889      0            111369 30.00  C148        C  \n",
       "890      0            370376  7.75   NaN        Q  \n",
       "\n",
       "[891 rows x 12 columns]"
      ]
     },
     "execution_count": 2,
     "metadata": {},
     "output_type": "execute_result"
    }
   ],
   "source": [
    "titanic_df = pd.read_csv(\"C:\\\\Users\\\\USER\\\\data_science/CSV's/train.csv\")\n",
    "titanic_df.Embarked.fillna('C',inplace=True)\n",
    "titanic_df"
   ]
  },
  {
   "cell_type": "code",
   "execution_count": 25,
   "id": "8cf2ea01-d5d4-44eb-ac39-b0bb077338c7",
   "metadata": {},
   "outputs": [
    {
     "data": {
      "text/html": [
       "<div>\n",
       "<style scoped>\n",
       "    .dataframe tbody tr th:only-of-type {\n",
       "        vertical-align: middle;\n",
       "    }\n",
       "\n",
       "    .dataframe tbody tr th {\n",
       "        vertical-align: top;\n",
       "    }\n",
       "\n",
       "    .dataframe thead th {\n",
       "        text-align: right;\n",
       "    }\n",
       "</style>\n",
       "<table border=\"1\" class=\"dataframe\">\n",
       "  <thead>\n",
       "    <tr style=\"text-align: right;\">\n",
       "      <th></th>\n",
       "      <th>Variable</th>\n",
       "      <th>Definition</th>\n",
       "      <th>Key</th>\n",
       "    </tr>\n",
       "  </thead>\n",
       "  <tbody>\n",
       "    <tr>\n",
       "      <th>0</th>\n",
       "      <td>Survived</td>\n",
       "      <td>Survival</td>\n",
       "      <td>0 = No, 1 = Yes</td>\n",
       "    </tr>\n",
       "    <tr>\n",
       "      <th>1</th>\n",
       "      <td>Pclass</td>\n",
       "      <td>Ticket</td>\n",
       "      <td>1 = 1st, 2 = 2nd, 3 = 3rd</td>\n",
       "    </tr>\n",
       "    <tr>\n",
       "      <th>2</th>\n",
       "      <td>Sex</td>\n",
       "      <td>Sex</td>\n",
       "      <td></td>\n",
       "    </tr>\n",
       "    <tr>\n",
       "      <th>3</th>\n",
       "      <td>Age</td>\n",
       "      <td>Age in years</td>\n",
       "      <td></td>\n",
       "    </tr>\n",
       "    <tr>\n",
       "      <th>4</th>\n",
       "      <td>Sibsp</td>\n",
       "      <td>| Number of siblings / spouses aboard the Ti...</td>\n",
       "      <td></td>\n",
       "    </tr>\n",
       "    <tr>\n",
       "      <th>5</th>\n",
       "      <td>Parch</td>\n",
       "      <td>| Number of children / parent aboard the Tit...</td>\n",
       "      <td></td>\n",
       "    </tr>\n",
       "    <tr>\n",
       "      <th>6</th>\n",
       "      <td>Ticket</td>\n",
       "      <td>Ticket number</td>\n",
       "      <td></td>\n",
       "    </tr>\n",
       "    <tr>\n",
       "      <th>7</th>\n",
       "      <td>Fare</td>\n",
       "      <td>Passengers fare</td>\n",
       "      <td></td>\n",
       "    </tr>\n",
       "    <tr>\n",
       "      <th>8</th>\n",
       "      <td>Cabin</td>\n",
       "      <td>Cabin number</td>\n",
       "      <td></td>\n",
       "    </tr>\n",
       "    <tr>\n",
       "      <th>9</th>\n",
       "      <td>Embarked</td>\n",
       "      <td>Port of Embarkation</td>\n",
       "      <td>|  C = Cherbourg, Q = Queenstown, S = South...</td>\n",
       "    </tr>\n",
       "  </tbody>\n",
       "</table>\n",
       "</div>"
      ],
      "text/plain": [
       "   Variable                                         Definition  \\\n",
       "0  Survived                                           Survival   \n",
       "1    Pclass                                             Ticket   \n",
       "2       Sex                                                Sex   \n",
       "3       Age                                       Age in years   \n",
       "4     Sibsp    | Number of siblings / spouses aboard the Ti...   \n",
       "5     Parch    | Number of children / parent aboard the Tit...   \n",
       "6    Ticket                                      Ticket number   \n",
       "7      Fare                                    Passengers fare   \n",
       "8     Cabin                                       Cabin number   \n",
       "9  Embarked                                Port of Embarkation   \n",
       "\n",
       "                                                 Key  \n",
       "0                                    0 = No, 1 = Yes  \n",
       "1                          1 = 1st, 2 = 2nd, 3 = 3rd  \n",
       "2                                                     \n",
       "3                                                     \n",
       "4                                                     \n",
       "5                                                     \n",
       "6                                                     \n",
       "7                                                     \n",
       "8                                                     \n",
       "9     |  C = Cherbourg, Q = Queenstown, S = South...  "
      ]
     },
     "execution_count": 25,
     "metadata": {},
     "output_type": "execute_result"
    }
   ],
   "source": [
    "# Here are the keys for the table above.\n",
    "Data_Dictionary = pd.DataFrame({'Variable' : ['Survived', 'Pclass', 'Sex', 'Age', 'Sibsp', 'Parch', 'Ticket', 'Fare', 'Cabin', 'Embarked'], \n",
    "                               'Definition' : ['Survival', 'Ticket', 'Sex', 'Age in years', '  | Number of siblings / spouses aboard the Titanic', '  | Number of children / parent aboard the Titanic', 'Ticket number', 'Passengers fare', 'Cabin number', 'Port of Embarkation'], \n",
    "                               'Key' : ['0 = No, 1 = Yes', '1 = 1st, 2 = 2nd, 3 = 3rd',\"\",\"\",\"\",\"\",\"\",\"\",\"\", '   |  C = Cherbourg, Q = Queenstown, S = Southampton']})\n",
    "Data_Dictionary"
   ]
  },
  {
   "cell_type": "code",
   "execution_count": 4,
   "id": "e916a7b4-7869-425d-9925-df33779129a5",
   "metadata": {},
   "outputs": [
    {
     "name": "stdout",
     "output_type": "stream",
     "text": [
      "<class 'pandas.core.frame.DataFrame'>\n",
      "RangeIndex: 891 entries, 0 to 890\n",
      "Data columns (total 12 columns):\n",
      " #   Column       Non-Null Count  Dtype  \n",
      "---  ------       --------------  -----  \n",
      " 0   PassengerId  891 non-null    int64  \n",
      " 1   Survived     891 non-null    int64  \n",
      " 2   Pclass       891 non-null    int64  \n",
      " 3   Name         891 non-null    object \n",
      " 4   Sex          891 non-null    object \n",
      " 5   Age          714 non-null    float64\n",
      " 6   SibSp        891 non-null    int64  \n",
      " 7   Parch        891 non-null    int64  \n",
      " 8   Ticket       891 non-null    object \n",
      " 9   Fare         891 non-null    float64\n",
      " 10  Cabin        204 non-null    object \n",
      " 11  Embarked     891 non-null    object \n",
      "dtypes: float64(2), int64(5), object(5)\n",
      "memory usage: 83.7+ KB\n"
     ]
    }
   ],
   "source": [
    "titanic_df.info()"
   ]
  },
  {
   "cell_type": "code",
   "execution_count": 5,
   "id": "d91bcec5-8d40-447a-93bd-c0e5e4559cbf",
   "metadata": {},
   "outputs": [
    {
     "data": {
      "text/html": [
       "<div>\n",
       "<style scoped>\n",
       "    .dataframe tbody tr th:only-of-type {\n",
       "        vertical-align: middle;\n",
       "    }\n",
       "\n",
       "    .dataframe tbody tr th {\n",
       "        vertical-align: top;\n",
       "    }\n",
       "\n",
       "    .dataframe thead th {\n",
       "        text-align: right;\n",
       "    }\n",
       "</style>\n",
       "<table border=\"1\" class=\"dataframe\">\n",
       "  <thead>\n",
       "    <tr style=\"text-align: right;\">\n",
       "      <th></th>\n",
       "      <th>PassengerId</th>\n",
       "      <th>Survived</th>\n",
       "      <th>Pclass</th>\n",
       "      <th>Age</th>\n",
       "      <th>SibSp</th>\n",
       "      <th>Parch</th>\n",
       "      <th>Fare</th>\n",
       "    </tr>\n",
       "  </thead>\n",
       "  <tbody>\n",
       "    <tr>\n",
       "      <th>count</th>\n",
       "      <td>891.00</td>\n",
       "      <td>891.00</td>\n",
       "      <td>891.00</td>\n",
       "      <td>714.00</td>\n",
       "      <td>891.00</td>\n",
       "      <td>891.00</td>\n",
       "      <td>891.00</td>\n",
       "    </tr>\n",
       "    <tr>\n",
       "      <th>mean</th>\n",
       "      <td>446.00</td>\n",
       "      <td>0.38</td>\n",
       "      <td>2.31</td>\n",
       "      <td>29.70</td>\n",
       "      <td>0.52</td>\n",
       "      <td>0.38</td>\n",
       "      <td>32.20</td>\n",
       "    </tr>\n",
       "    <tr>\n",
       "      <th>std</th>\n",
       "      <td>257.35</td>\n",
       "      <td>0.49</td>\n",
       "      <td>0.84</td>\n",
       "      <td>14.53</td>\n",
       "      <td>1.10</td>\n",
       "      <td>0.81</td>\n",
       "      <td>49.69</td>\n",
       "    </tr>\n",
       "    <tr>\n",
       "      <th>min</th>\n",
       "      <td>1.00</td>\n",
       "      <td>0.00</td>\n",
       "      <td>1.00</td>\n",
       "      <td>0.42</td>\n",
       "      <td>0.00</td>\n",
       "      <td>0.00</td>\n",
       "      <td>0.00</td>\n",
       "    </tr>\n",
       "    <tr>\n",
       "      <th>25%</th>\n",
       "      <td>223.50</td>\n",
       "      <td>0.00</td>\n",
       "      <td>2.00</td>\n",
       "      <td>20.12</td>\n",
       "      <td>0.00</td>\n",
       "      <td>0.00</td>\n",
       "      <td>7.91</td>\n",
       "    </tr>\n",
       "    <tr>\n",
       "      <th>50%</th>\n",
       "      <td>446.00</td>\n",
       "      <td>0.00</td>\n",
       "      <td>3.00</td>\n",
       "      <td>28.00</td>\n",
       "      <td>0.00</td>\n",
       "      <td>0.00</td>\n",
       "      <td>14.45</td>\n",
       "    </tr>\n",
       "    <tr>\n",
       "      <th>75%</th>\n",
       "      <td>668.50</td>\n",
       "      <td>1.00</td>\n",
       "      <td>3.00</td>\n",
       "      <td>38.00</td>\n",
       "      <td>1.00</td>\n",
       "      <td>0.00</td>\n",
       "      <td>31.00</td>\n",
       "    </tr>\n",
       "    <tr>\n",
       "      <th>max</th>\n",
       "      <td>891.00</td>\n",
       "      <td>1.00</td>\n",
       "      <td>3.00</td>\n",
       "      <td>80.00</td>\n",
       "      <td>8.00</td>\n",
       "      <td>6.00</td>\n",
       "      <td>512.33</td>\n",
       "    </tr>\n",
       "  </tbody>\n",
       "</table>\n",
       "</div>"
      ],
      "text/plain": [
       "       PassengerId  Survived  Pclass    Age  SibSp  Parch   Fare\n",
       "count       891.00    891.00  891.00 714.00 891.00 891.00 891.00\n",
       "mean        446.00      0.38    2.31  29.70   0.52   0.38  32.20\n",
       "std         257.35      0.49    0.84  14.53   1.10   0.81  49.69\n",
       "min           1.00      0.00    1.00   0.42   0.00   0.00   0.00\n",
       "25%         223.50      0.00    2.00  20.12   0.00   0.00   7.91\n",
       "50%         446.00      0.00    3.00  28.00   0.00   0.00  14.45\n",
       "75%         668.50      1.00    3.00  38.00   1.00   0.00  31.00\n",
       "max         891.00      1.00    3.00  80.00   8.00   6.00 512.33"
      ]
     },
     "execution_count": 5,
     "metadata": {},
     "output_type": "execute_result"
    }
   ],
   "source": [
    "titanic_df.describe()"
   ]
  },
  {
   "cell_type": "markdown",
   "id": "5bc1744c-066e-453b-8122-fbe9ef21002f",
   "metadata": {},
   "source": [
    "## <span style='color: #8b0000'>   **3. Now let the fun begin. I meant to say let's start our cleaning and some exploratory questions.**\n",
    "\n",
    "<hr/>\n",
    "\n",
    "**Questions like,**\n",
    "- Does age matter for survival?\n",
    "- Does gender matter for survival?\n",
    "- How about class? Does it matter for survival?\n",
    "- You know the ladies love vacations. So where they the most on board? And did they ride first class?\n",
    "- From what location did people board the most and what location had the most survivors?"
   ]
  },
  {
   "cell_type": "code",
   "execution_count": 6,
   "id": "faf64d8c-bbbf-48b7-a0e9-b6b65fbfc1d7",
   "metadata": {},
   "outputs": [
    {
     "data": {
      "text/plain": [
       "PassengerId      0\n",
       "Survived         0\n",
       "Pclass           0\n",
       "Name             0\n",
       "Sex              0\n",
       "Age            177\n",
       "SibSp            0\n",
       "Parch            0\n",
       "Ticket           0\n",
       "Fare             0\n",
       "Cabin          687\n",
       "Embarked         0\n",
       "dtype: int64"
      ]
     },
     "execution_count": 6,
     "metadata": {},
     "output_type": "execute_result"
    }
   ],
   "source": [
    "# Let's find out how the null values are spreaded across\n",
    "titanic_df.isna().sum()\n"
   ]
  },
  {
   "cell_type": "markdown",
   "id": "2766d250-ac2f-43aa-9f60-125f949553c5",
   "metadata": {},
   "source": [
    "##### **Lets fill the missing age values with the mean for the ages**"
   ]
  },
  {
   "cell_type": "code",
   "execution_count": 7,
   "id": "d5a6cbb4-99df-4adc-9064-223b9f86c8e4",
   "metadata": {},
   "outputs": [
    {
     "data": {
      "text/plain": [
       "0     22.00\n",
       "1     38.00\n",
       "2     26.00\n",
       "3     35.00\n",
       "4     35.00\n",
       "       ... \n",
       "886   27.00\n",
       "887   19.00\n",
       "888   29.70\n",
       "889   26.00\n",
       "890   32.00\n",
       "Name: Age, Length: 891, dtype: float64"
      ]
     },
     "execution_count": 7,
     "metadata": {},
     "output_type": "execute_result"
    }
   ],
   "source": [
    "titanic_df.Age.fillna(titanic_df.Age.mean(), inplace=True)\n",
    "titanic_df.Age"
   ]
  },
  {
   "cell_type": "code",
   "execution_count": 8,
   "id": "789a5559-3677-4be6-87d3-a03201005aa8",
   "metadata": {},
   "outputs": [
    {
     "data": {
      "text/plain": [
       "0"
      ]
     },
     "execution_count": 8,
     "metadata": {},
     "output_type": "execute_result"
    }
   ],
   "source": [
    "titanic_df.Age.isna().sum()"
   ]
  },
  {
   "cell_type": "markdown",
   "id": "11726c58-1517-4a5c-a976-a7b141b5acee",
   "metadata": {},
   "source": [
    "##### **FILLED** \n",
    "<hr/>"
   ]
  },
  {
   "cell_type": "markdown",
   "id": "6d57c2e3-3068-4d17-b548-22f13218b518",
   "metadata": {},
   "source": [
    "## <span style='color: #8b0000'>  **Analyzing the data for more information**"
   ]
  },
  {
   "cell_type": "code",
   "execution_count": 9,
   "id": "b2efaa9a-aedb-429b-be0a-2b4a4e442265",
   "metadata": {},
   "outputs": [
    {
     "name": "stdout",
     "output_type": "stream",
     "text": [
      "0   61.62\n",
      "1   38.38\n",
      "Name: Survived, dtype: float64\n"
     ]
    },
    {
     "data": {
      "image/png": "[encoded data removed]",
      "text/plain": [
       "<Figure size 864x432 with 1 Axes>"
      ]
     },
     "metadata": {
      "needs_background": "light"
     },
     "output_type": "display_data"
    }
   ],
   "source": [
    "matplotlib.rcParams['font.size'] = 14\n",
    "plt.figure(figsize=(12, 6))\n",
    "sns.set_style('whitegrid')\n",
    "\n",
    "survival_rate = titanic_df['Survived'].value_counts() * 100 / len(titanic_df)\n",
    "plt.title('Percentage of those that died')\n",
    "survival_rate.plot(kind='bar', \n",
    "                   color='black')\n",
    "\n",
    "print(titanic_df['Survived'].value_counts() * 100 / len(titanic_df))"
   ]
  },
  {
   "cell_type": "markdown",
   "id": "83f201c3-a2f9-47a1-8dbe-514df653b47a",
   "metadata": {},
   "source": [
    "##### **That's really sad, only about 38% survived**"
   ]
  },
  {
   "cell_type": "code",
   "execution_count": 10,
   "id": "86b5cf94-01ae-4cd3-b8dc-d4993cdc5ede",
   "metadata": {},
   "outputs": [
    {
     "name": "stdout",
     "output_type": "stream",
     "text": [
      "male      577\n",
      "female    314\n",
      "Name: Sex, dtype: int64\n"
     ]
    },
    {
     "data": {
      "image/png": "[encoded data removed]",
      "text/plain": [
       "<Figure size 864x432 with 1 Axes>"
      ]
     },
     "metadata": {},
     "output_type": "display_data"
    }
   ],
   "source": [
    "print(titanic_df.Sex.value_counts())\n",
    "\n",
    "matplotlib.rcParams['font.size'] = 14\n",
    "plt.figure(figsize=(12, 6))\n",
    "\n",
    "plt.title('Distribution of sex')\n",
    "titanic_df.Sex.value_counts().plot(kind='bar',\n",
    "                                   color=['blue','pink']);"
   ]
  },
  {
   "cell_type": "markdown",
   "id": "47982333-0e63-4374-bbc9-2822291af88f",
   "metadata": {},
   "source": [
    "##### **Gender distribution shows more males almost 2x the females**"
   ]
  },
  {
   "cell_type": "code",
   "execution_count": 58,
   "id": "d7cf0435-0fd8-4670-adcb-2d8ed6c5150a",
   "metadata": {},
   "outputs": [
    {
     "name": "stdout",
     "output_type": "stream",
     "text": [
      "1    216\n",
      "2    184\n",
      "3    491\n",
      "Name: Pclass, dtype: int64\n"
     ]
    },
    {
     "data": {
      "image/png": "[encoded data removed]",
      "text/plain": [
       "<Figure size 864x432 with 1 Axes>"
      ]
     },
     "metadata": {},
     "output_type": "display_data"
    }
   ],
   "source": [
    "print(titanic_df.Pclass.value_counts().sort_index())\n",
    "\n",
    "plt.figure(figsize=(12, 6))\n",
    "\n",
    "plt.title('Distribution of sex')\n",
    "titanic_df.Pclass.value_counts().sort_index().plot(kind='bar', \n",
    "                                                   color=['#d1b200', 'silver', '#b08d57']);\n",
    "#The 'sort_index()' method was added so as to display the values accordingly"
   ]
  },
  {
   "cell_type": "markdown",
   "id": "57b346be-69eb-4488-9190-f516f0b3cd6c",
   "metadata": {},
   "source": [
    "##### **Distribution based on Class** \n",
    "<hr/>"
   ]
  },
  {
   "cell_type": "markdown",
   "id": "73eb8b79-a25e-488c-b687-98edabf25797",
   "metadata": {},
   "source": [
    "#### <span style='color: orange'>  **Question 1: Does age matter for survival?**"
   ]
  },
  {
   "cell_type": "code",
   "execution_count": 12,
   "id": "148d52b2-62b5-4694-8875-96384016b485",
   "metadata": {},
   "outputs": [
    {
     "data": {
      "image/png": "[encoded data removed]",
      "text/plain": [
       "<Figure size 864x432 with 1 Axes>"
      ]
     },
     "metadata": {},
     "output_type": "display_data"
    }
   ],
   "source": [
    "matplotlib.rcParams['font.size'] = 14\n",
    "plt.figure(figsize=(12, 6))\n",
    "\n",
    "plt.title('Relationship Between Survival and Age')\n",
    "sns.scatterplot(titanic_df.Survived, titanic_df.Age);"
   ]
  },
  {
   "cell_type": "markdown",
   "id": "847301c3-b988-4745-ad93-d112889c2eed",
   "metadata": {},
   "source": [
    "##### **It seems like the relationship between them actually is not easy to understand. How about we try to see the age group(in ten's) that survived the most**"
   ]
  },
  {
   "cell_type": "code",
   "execution_count": 13,
   "id": "8a370e11-afaa-4a42-987c-959a7042b460",
   "metadata": {},
   "outputs": [],
   "source": [
    "bins = [0, 10, 20, 30, 40, 50, 60, 70, 80]\n",
    "titanic_df['Age group'] = pd.cut(titanic_df.Age, bins)"
   ]
  },
  {
   "cell_type": "code",
   "execution_count": 14,
   "id": "775c9f67-fda7-4eaf-81ad-38c596b0d4ed",
   "metadata": {},
   "outputs": [
    {
     "name": "stdout",
     "output_type": "stream",
     "text": [
      "(0, 10]      38\n",
      "(10, 20]     44\n",
      "(20, 30]    136\n",
      "(30, 40]     69\n",
      "(40, 50]     33\n",
      "(50, 60]     17\n",
      "(60, 70]      4\n",
      "(70, 80]      1\n",
      "Name: Age group, dtype: int64\n"
     ]
    },
    {
     "data": {
      "image/png": "[encoded data removed]",
      "text/plain": [
       "<Figure size 864x432 with 1 Axes>"
      ]
     },
     "metadata": {},
     "output_type": "display_data"
    }
   ],
   "source": [
    "matplotlib.rcParams['font.size'] = 14\n",
    "plt.figure(figsize=(12, 6))\n",
    "\n",
    "titanic_df[titanic_df.Survived == 1]['Age group'].value_counts().sort_index().plot(kind='bar');\n",
    "plt.title('Distribution(by age groups) that survived the most')\n",
    "\n",
    "print(titanic_df[titanic_df.Survived == 1]['Age group'].value_counts().sort_index())"
   ]
  },
  {
   "cell_type": "markdown",
   "id": "90b330ec-87a4-48b0-90ad-b5cd36c7299d",
   "metadata": {},
   "source": [
    "##### **The age gap [20, 30] shows the highest survival rate. Let's the trend for death.**"
   ]
  },
  {
   "cell_type": "code",
   "execution_count": 15,
   "id": "43e1bd99-cba3-41fa-8527-a7aa0916d50e",
   "metadata": {},
   "outputs": [
    {
     "name": "stdout",
     "output_type": "stream",
     "text": [
      "(0, 10]      26\n",
      "(10, 20]     71\n",
      "(20, 30]    271\n",
      "(30, 40]     86\n",
      "(40, 50]     53\n",
      "(50, 60]     25\n",
      "(60, 70]     13\n",
      "(70, 80]      4\n",
      "Name: Age group, dtype: int64\n"
     ]
    },
    {
     "data": {
      "image/png": "[encoded data removed]",
      "text/plain": [
       "<Figure size 864x432 with 1 Axes>"
      ]
     },
     "metadata": {},
     "output_type": "display_data"
    }
   ],
   "source": [
    "matplotlib.rcParams['font.size'] = 14\n",
    "plt.figure(figsize=(12, 6))\n",
    "\n",
    "titanic_df[titanic_df.Survived == 0]['Age group'].value_counts().sort_index().plot(kind='bar');\n",
    "plt.title('Distribution(by age groups) that survived the least')\n",
    "\n",
    "print(titanic_df[titanic_df.Survived == 0]['Age group'].value_counts().sort_index())"
   ]
  },
  {
   "cell_type": "markdown",
   "id": "e1a8f2c4-6753-49bf-8973-69dc082ac33c",
   "metadata": {},
   "source": [
    "##### **Hmmmm, the age range also shows the higest number of death. I'm thinking cause they were the most on the ship.** "
   ]
  },
  {
   "cell_type": "code",
   "execution_count": 16,
   "id": "4caeb0a9-d02a-44d5-a3e7-2cd8eacae445",
   "metadata": {},
   "outputs": [
    {
     "data": {
      "text/plain": [
       "407"
      ]
     },
     "execution_count": 16,
     "metadata": {},
     "output_type": "execute_result"
    }
   ],
   "source": [
    "len(titanic_df[(titanic_df['Age'] > 20) & (titanic_df['Age'] <= 30)])"
   ]
  },
  {
   "cell_type": "markdown",
   "id": "b0106210-2590-4b6c-ba12-80a2b2155f69",
   "metadata": {},
   "source": [
    "##### They were 407 people between the range of 20-30 out of all 891 people with 136 surviving and 271 not."
   ]
  },
  {
   "cell_type": "markdown",
   "id": "56dfe889-8440-4701-b743-a04d9cab76c8",
   "metadata": {},
   "source": [
    "##### **In conclusion, we can see that age group was not a criteria for survival as all age group faced simmilar fate. The [20, 30] group, might seem favourabel for survival but they actually had the heigest number of loss, which is more than their survivors.**\n",
    "<hr/>"
   ]
  },
  {
   "cell_type": "markdown",
   "id": "5514f9ab-4742-41e1-a93a-8fb751ad8dd9",
   "metadata": {},
   "source": [
    "#### <span style='color: orange'> **Question 2: Does gender matter for survival?**"
   ]
  },
  {
   "cell_type": "code",
   "execution_count": 17,
   "id": "7b654f11-bfa0-495a-9edb-6272a0cc9870",
   "metadata": {},
   "outputs": [
    {
     "name": "stdout",
     "output_type": "stream",
     "text": [
      "female    233\n",
      "male      109\n",
      "Name: Sex, dtype: int64\n"
     ]
    },
    {
     "data": {
      "image/png": "[encoded data removed]",
      "text/plain": [
       "<Figure size 864x432 with 1 Axes>"
      ]
     },
     "metadata": {},
     "output_type": "display_data"
    }
   ],
   "source": [
    "plt.figure(figsize=(12, 6))\n",
    "\n",
    "titanic_df[titanic_df.Survived == 1].Sex.value_counts().plot(kind='bar', \n",
    "                                                            color=['mediumvioletred', \n",
    "                                                                   'gray']);\n",
    "print(titanic_df[titanic_df.Survived == 1].Sex.value_counts())"
   ]
  },
  {
   "cell_type": "markdown",
   "id": "f3511cff-ea0f-42f2-89c6-d9389869b51b",
   "metadata": {},
   "source": [
    "##### **Woah! The females survived way more than the males. Well, if you have seen the movie you might understand why.**"
   ]
  },
  {
   "cell_type": "code",
   "execution_count": 59,
   "id": "7a11468c-f8ef-4364-a516-c509a6433e54",
   "metadata": {},
   "outputs": [
    {
     "name": "stdout",
     "output_type": "stream",
     "text": [
      "female   68.13\n",
      "male     31.87\n",
      "Name: Sex, dtype: float64\n"
     ]
    },
    {
     "data": {
      "image/png": "[encoded data removed]",
      "text/plain": [
       "<Figure size 864x432 with 1 Axes>"
      ]
     },
     "metadata": {},
     "output_type": "display_data"
    }
   ],
   "source": [
    "plt.figure(figsize=(12, 6))\n",
    "\n",
    "percet_by_sex = titanic_df[titanic_df.Survived == 1].Sex.value_counts() * 100 / len(titanic_df[titanic_df.Survived == 1].Sex)\n",
    "percet_by_sex.plot(kind='bar', color='#a2a2d0')\n",
    "\n",
    "print(titanic_df[titanic_df.Survived == 1].Sex.value_counts() * 100 / len(titanic_df[titanic_df.Survived == 1].Sex))"
   ]
  },
  {
   "cell_type": "markdown",
   "id": "4e5db935-f1bf-4982-9b42-9cd4e99efc25",
   "metadata": {},
   "source": [
    "##### **With the following analysis, we can see that almost 70% of the suvivors were females. This shows that, gender actuall mattered for survival in the titanic**\n",
    "<hr/>"
   ]
  },
  {
   "cell_type": "markdown",
   "id": "467df029-f961-4c69-9c12-7dc09cb8b5f3",
   "metadata": {},
   "source": [
    "#### <span style='color: orange'> **Question 3 : How about class? Does it matter for survival?**"
   ]
  },
  {
   "cell_type": "code",
   "execution_count": 57,
   "id": "95290dd7-4dcb-4f47-ae79-0be2e19776a1",
   "metadata": {},
   "outputs": [
    {
     "name": "stdout",
     "output_type": "stream",
     "text": [
      "1    136\n",
      "2     87\n",
      "3    119\n",
      "Name: Pclass, dtype: int64\n"
     ]
    },
    {
     "data": {
      "image/png": "[encoded data removed]",
      "text/plain": [
       "<Figure size 864x432 with 1 Axes>"
      ]
     },
     "metadata": {},
     "output_type": "display_data"
    }
   ],
   "source": [
    "plt.figure(figsize=(12, 6))\n",
    "\n",
    "titanic_df[titanic_df.Survived == 1].Pclass.value_counts().sort_index().plot(kind='bar', \n",
    "                                                   color=['#d1b200', 'silver', '#b08d57']);\n",
    "\n",
    "print(titanic_df[titanic_df.Survived == 1].Pclass.value_counts().sort_index())"
   ]
  },
  {
   "cell_type": "code",
   "execution_count": 66,
   "id": "93179c13-6f3c-41db-82d7-a684067659b5",
   "metadata": {},
   "outputs": [
    {
     "name": "stdout",
     "output_type": "stream",
     "text": [
      "Out of all the suvivors 39.77% came from the 1st class passengers while 25.44% came form those in 2nd class and 34.80% where from the 3rd class\n"
     ]
    },
    {
     "data": {
      "image/png": "[encoded data removed]",
      "text/plain": [
       "<Figure size 864x432 with 1 Axes>"
      ]
     },
     "metadata": {
      "needs_background": "light"
     },
     "output_type": "display_data"
    }
   ],
   "source": [
    "print('Out of all the suvivors 39.77% came from the 1st class passengers while 25.44% came form those in 2nd class and 34.80% where from the 3rd class')\n",
    "\n",
    "plt.figure(figsize=(12, 6))\n",
    "plt.title('Class and percentage that survived')\n",
    "\n",
    "percet_by_class = titanic_df[titanic_df.Survived == 1].Pclass.value_counts().sort_index() * 100 / len(titanic_df[titanic_df.Survived == 1].Pclass)\n",
    "percet_by_class.plot(kind='bar',\n",
    "                     color=['#d1b200', 'silver', '#b08d57']);"
   ]
  },
  {
   "cell_type": "code",
   "execution_count": 73,
   "id": "b7b14fbc-d1d4-4abb-97b5-0a330f80865e",
   "metadata": {},
   "outputs": [
    {
     "name": "stdout",
     "output_type": "stream",
     "text": [
      "In futher calculations we can see that 63% of those in 1st class survived, 47% of those in 2nd class and 24% of those in 3rd class survived\n"
     ]
    }
   ],
   "source": [
    "print('In futher calculations we can see that {:,.0f}% of those in 1st class survived, {:,.0f}% of those in 2nd class and {:,.0f}% of those in 3rd class survived' .format(len(titanic_df[(titanic_df.Survived == 1) & (titanic_df.Pclass == 1)]) * 100 / len(titanic_df[titanic_df.Pclass == 1 ]),\n",
    "                                                                                       len(titanic_df[(titanic_df.Survived == 1) & (titanic_df.Pclass == 2)]) * 100 / len(titanic_df[titanic_df.Pclass == 2 ]),\n",
    "                                                                                       len(titanic_df[(titanic_df.Survived == 1) & (titanic_df.Pclass == 3)]) * 100 / len(titanic_df[titanic_df.Pclass == 3 ])))"
   ]
  },
  {
   "cell_type": "markdown",
   "id": "a1a5919e-2ec1-45da-8ab3-36e015f6a176",
   "metadata": {},
   "source": [
    "##### **And so, money did save those in 1st class as they by far had the most survivors**\n",
    "<hr/>"
   ]
  },
  {
   "cell_type": "markdown",
   "id": "3917a66c-c31a-46b4-b552-b84e9211b5f7",
   "metadata": {},
   "source": [
    "#### <span style='color: orange'> **Question 4 : You know the ladies love vacations. So where they the most on board? And did they ride first class?**"
   ]
  },
  {
   "cell_type": "code",
   "execution_count": 49,
   "id": "7cd90908-868a-4b18-90ae-70317c3d2b45",
   "metadata": {},
   "outputs": [
    {
     "data": {
      "text/plain": [
       "male      577\n",
       "female    314\n",
       "Name: Sex, dtype: int64"
      ]
     },
     "execution_count": 49,
     "metadata": {},
     "output_type": "execute_result"
    },
    {
     "data": {
      "image/png": "[encoded data removed]",
      "text/plain": [
       "<Figure size 864x432 with 1 Axes>"
      ]
     },
     "metadata": {},
     "output_type": "display_data"
    }
   ],
   "source": [
    "plt.figure(figsize=(12, 6))\n",
    "\n",
    "titanic_df.Sex.value_counts().plot(kind='bar',\n",
    "                                  color=['#a3c1ad', '#ffcff1']);\n",
    "titanic_df.Sex.value_counts()"
   ]
  },
  {
   "cell_type": "markdown",
   "id": "094b3b00-5a23-4092-8824-86113f7445e2",
   "metadata": {},
   "source": [
    "##### **Okay, we can see that they were more males than females. As we have seen before, approximately 32% of the passengers were females.** \n",
    "##### **And now, to see if most were 1st class passengers**"
   ]
  },
  {
   "cell_type": "code",
   "execution_count": 23,
   "id": "62af9232-d73e-49ac-b4dc-5c50d011221f",
   "metadata": {},
   "outputs": [
    {
     "data": {
      "text/plain": [
       "94"
      ]
     },
     "execution_count": 23,
     "metadata": {},
     "output_type": "execute_result"
    }
   ],
   "source": [
    "len(titanic_df[(titanic_df.Sex == 'female') & (titanic_df.Pclass == 1)])"
   ]
  },
  {
   "cell_type": "code",
   "execution_count": 24,
   "id": "56cba064-cc48-4c80-abc1-d1b0b40c9f60",
   "metadata": {},
   "outputs": [
    {
     "name": "stdout",
     "output_type": "stream",
     "text": [
      "1st class had 216 passengers of which 94 were females \n"
     ]
    }
   ],
   "source": [
    "print('1st class had {} passengers of which {} were females '.format(len(titanic_df[titanic_df.Pclass == 1]),\n",
    "                                                                     len(titanic_df[(titanic_df.Sex == 'female') & (titanic_df.Pclass == 1)])))"
   ]
  },
  {
   "cell_type": "markdown",
   "id": "36f9ac9e-22e1-4621-a57a-50f2c32129dd",
   "metadata": {},
   "source": [
    "##### **With these analysis we can see that; 1) Females were not the most in 1st class and <br>  2) They were the most in 1st class**\n",
    "<hr/>"
   ]
  },
  {
   "cell_type": "markdown",
   "id": "7b8fd362-7307-49c4-8352-bee92b56b849",
   "metadata": {},
   "source": [
    "#### <span style='color: orange'>  **Final Questions: From what location did people board the most and what location had the most survivors?**"
   ]
  },
  {
   "cell_type": "code",
   "execution_count": 31,
   "id": "ae1d10e8-6271-4ccd-94b0-d3cc6af12291",
   "metadata": {},
   "outputs": [
    {
     "data": {
      "text/html": [
       "<div>\n",
       "<style scoped>\n",
       "    .dataframe tbody tr th:only-of-type {\n",
       "        vertical-align: middle;\n",
       "    }\n",
       "\n",
       "    .dataframe tbody tr th {\n",
       "        vertical-align: top;\n",
       "    }\n",
       "\n",
       "    .dataframe thead th {\n",
       "        text-align: right;\n",
       "    }\n",
       "</style>\n",
       "<table border=\"1\" class=\"dataframe\">\n",
       "  <thead>\n",
       "    <tr style=\"text-align: right;\">\n",
       "      <th></th>\n",
       "      <th>Variable</th>\n",
       "      <th>Definition</th>\n",
       "      <th>Key</th>\n",
       "    </tr>\n",
       "  </thead>\n",
       "  <tbody>\n",
       "    <tr>\n",
       "      <th>0</th>\n",
       "      <td>Embarked</td>\n",
       "      <td>Port of Embarkation</td>\n",
       "      <td>C = Cherbourg, Q = Queenstown, S = Southampton</td>\n",
       "    </tr>\n",
       "  </tbody>\n",
       "</table>\n",
       "</div>"
      ],
      "text/plain": [
       "   Variable           Definition  \\\n",
       "0  Embarked  Port of Embarkation   \n",
       "\n",
       "                                               Key  \n",
       "0   C = Cherbourg, Q = Queenstown, S = Southampton  "
      ]
     },
     "execution_count": 31,
     "metadata": {},
     "output_type": "execute_result"
    }
   ],
   "source": [
    " pd.DataFrame({'Variable' : ['Embarked'], \n",
    "               'Definition' : [ 'Port of Embarkation'], \n",
    "               'Key' : [' C = Cherbourg, Q = Queenstown, S = Southampton']})"
   ]
  },
  {
   "cell_type": "code",
   "execution_count": 96,
   "id": "e32d1d1b-57c6-4e88-bb34-b281f01ea1fa",
   "metadata": {},
   "outputs": [
    {
     "name": "stdout",
     "output_type": "stream",
     "text": [
      "Amount of those that boarded from various locations were\n",
      " C    170\n",
      "Q     77\n",
      "S    644\n",
      "Name: Embarked, dtype: int64\n"
     ]
    },
    {
     "data": {
      "image/png": "[encoded data removed]",
      "text/plain": [
       "<Figure size 864x432 with 1 Axes>"
      ]
     },
     "metadata": {
      "needs_background": "light"
     },
     "output_type": "display_data"
    }
   ],
   "source": [
    "print('Amount of those that boarded from various locations were\\n',titanic_df.Embarked.value_counts().sort_index())\n",
    "\n",
    "plt.figure(figsize=(12, 6))\n",
    "matplotlib.rcParams['font.size'] = 14\n",
    "\n",
    "plt.title('Distribution of location')\n",
    "titanic_df.Embarked.value_counts().sort_index().plot(kind='bar', \n",
    "                                                   color=['maroon', 'gray', '#a8d4ff']);"
   ]
  },
  {
   "cell_type": "code",
   "execution_count": 106,
   "id": "0147ffda-4288-4fc3-9f33-d6533cebad15",
   "metadata": {},
   "outputs": [
    {
     "name": "stdout",
     "output_type": "stream",
     "text": [
      "C   27.78\n",
      "Q    8.77\n",
      "S   63.45\n",
      "Name: Embarked, dtype: float64\n"
     ]
    },
    {
     "data": {
      "image/png": "[encoded data removed]",
      "text/plain": [
       "<Figure size 864x432 with 1 Axes>"
      ]
     },
     "metadata": {
      "needs_background": "light"
     },
     "output_type": "display_data"
    }
   ],
   "source": [
    "plt.figure(figsize=(12, 6))\n",
    "matplotlib.rcParams['font.size'] = 14\n",
    "\n",
    "print(percet_by_location)\n",
    "percet_by_location = titanic_df[titanic_df.Survived == 1].Embarked.value_counts().sort_index() * 100 / len(titanic_df[titanic_df.Survived == 1].Embarked)\n",
    "percet_by_location.plot(kind='bar', \n",
    "                        color=['maroon', 'gray', '#a8d4ff']);"
   ]
  },
  {
   "cell_type": "code",
   "execution_count": 101,
   "id": "be6e39d3-7240-4cc0-87a8-e4ab8c8831db",
   "metadata": {},
   "outputs": [
    {
     "name": "stdout",
     "output_type": "stream",
     "text": [
      "Cherbourg = 56%, Queenstown = 39%, Southampton = 34%\n"
     ]
    }
   ],
   "source": [
    "print('Cherbourg = {:,.0f}%, Queenstown = {:,.0f}%, Southampton = {:,.0f}%'.format(len(titanic_df[(titanic_df.Survived == 1) & (titanic_df.Embarked == 'C')]) * 100 / len(titanic_df[titanic_df.Embarked == 'C' ]),\n",
    "      len(titanic_df[(titanic_df.Survived == 1) & (titanic_df.Embarked == 'Q')]) * 100 / len(titanic_df[titanic_df.Embarked == 'Q']),\n",
    "      len(titanic_df[(titanic_df.Survived == 1) & (titanic_df.Embarked == 'S')]) * 100 / len(titanic_df[titanic_df.Embarked == 'S'])))"
   ]
  },
  {
   "cell_type": "markdown",
   "id": "e2c1868d-2b66-4a90-a8d9-8fed43101f62",
   "metadata": {},
   "source": [
    "##### **In conclusion, they were 170 persons who boarded the Titanic from Cherbourg, 77 from Queenstown and 644 from Southampton. Although, it looks like the place that had the most survivors was Southampton because it had 63% of the survivors. Cherbourg had more survivors as about 56% of those that boarded from Cherbourg survived. While, 39% of those that boarded from Queenstown and 34% of those that boarded from Southampton survived** "
   ]
  },
  {
   "cell_type": "code",
   "execution_count": null,
   "id": "fbc140f6-2477-4a21-8705-c8e568fbc3e9",
   "metadata": {},
   "outputs": [],
   "source": []
  }
 ],
 "metadata": {
  "kernelspec": {
   "display_name": "Python 3",
   "language": "python",
   "name": "python3"
  },
  "language_info": {
   "codemirror_mode": {
    "name": "ipython",
    "version": 3
   },
   "file_extension": ".py",
   "mimetype": "text/x-python",
   "name": "python",
   "nbconvert_exporter": "python",
   "pygments_lexer": "ipython3",
   "version": "3.8.8"
  }
 },
 "nbformat": 4,
 "nbformat_minor": 5
}
